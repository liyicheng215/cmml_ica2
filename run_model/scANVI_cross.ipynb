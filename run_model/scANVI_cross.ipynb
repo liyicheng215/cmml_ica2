{
 "cells": [
  {
   "cell_type": "code",
   "execution_count": 2,
   "metadata": {},
   "outputs": [],
   "source": [
    "import scvi\n",
    "import scanpy as sc\n",
    "import anndata\n",
    "import pandas as pd\n",
    "import time\n",
    "from sklearn.metrics import accuracy_score, f1_score, classification_report\n",
    "\n",
    "# 加载\n",
    "adata_ref = sc.read_h5ad(\"pbmc_1.h5ad\")\n",
    "adata_query = sc.read_h5ad(\"pbmc_2.h5ad\")"
   ]
  },
  {
   "cell_type": "code",
   "execution_count": 3,
   "metadata": {},
   "outputs": [
    {
     "name": "stderr",
     "output_type": "stream",
     "text": [
      "/tmp/ipykernel_6008/2750717440.py:12: FutureWarning: Use anndata.concat instead of AnnData.concatenate, AnnData.concatenate is deprecated and will be removed in the future. See the tutorial for concat at: https://anndata.readthedocs.io/en/latest/concatenation.html\n",
      "  adata_all = adata_ref.concatenate(adata_query, batch_key=\"dataset\", uns_merge=\"unique\")\n"
     ]
    }
   ],
   "source": [
    "# ✅ 储存 pbmc2 的真实标签，用于评估后预测效果\n",
    "adata_query.obs[\"true_label\"] = adata_query.obs[\"cell_type\"].astype(str)\n",
    "\n",
    "# 接下来覆盖为 Unknown\n",
    "adata_query.obs[\"cell_type\"] = \"Unknown\"\n",
    "\n",
    "# 标记数据来源\n",
    "adata_ref.obs[\"dataset\"] = \"reference\"\n",
    "adata_query.obs[\"dataset\"] = \"query\"\n",
    "\n",
    "# 合并\n",
    "adata_all = adata_ref.concatenate(adata_query, batch_key=\"dataset\", uns_merge=\"unique\")"
   ]
  },
  {
   "cell_type": "code",
   "execution_count": 4,
   "metadata": {},
   "outputs": [
    {
     "name": "stderr",
     "output_type": "stream",
     "text": [
      "An NVIDIA GPU may be present on this machine, but a CUDA-enabled jaxlib is not installed. Falling back to cpu.\n",
      "GPU available: True (cuda), used: True\n",
      "TPU available: False, using: 0 TPU cores\n",
      "HPU available: False, using: 0 HPUs\n",
      "You are using a CUDA device ('NVIDIA A100-PCIE-40GB MIG 1g.10gb') that has Tensor Cores. To properly utilize them, you should set `torch.set_float32_matmul_precision('medium' | 'high')` which will trade-off precision for performance. For more details, read https://pytorch.org/docs/stable/generated/torch.set_float32_matmul_precision.html#torch.set_float32_matmul_precision\n",
      "LOCAL_RANK: 0 - CUDA_VISIBLE_DEVICES: [0]\n",
      "/root/miniconda3/envs/scvi-env/lib/python3.9/site-packages/lightning/pytorch/trainer/connectors/data_connector.py:425: The 'train_dataloader' does not have many workers which may be a bottleneck. Consider increasing the value of the `num_workers` argument` to `num_workers=2` in the `DataLoader` to improve performance.\n"
     ]
    },
    {
     "name": "stdout",
     "output_type": "stream",
     "text": [
      "Epoch 100/100: 100%|██████████| 100/100 [02:01<00:00,  1.20s/it, v_num=1, train_loss_step=2.93e+3, train_loss_epoch=2.99e+3]"
     ]
    },
    {
     "name": "stderr",
     "output_type": "stream",
     "text": [
      "`Trainer.fit` stopped: `max_epochs=100` reached.\n"
     ]
    },
    {
     "name": "stdout",
     "output_type": "stream",
     "text": [
      "Epoch 100/100: 100%|██████████| 100/100 [02:01<00:00,  1.21s/it, v_num=1, train_loss_step=2.93e+3, train_loss_epoch=2.99e+3]\n",
      "\u001b[34mINFO    \u001b[0m Training for \u001b[1;36m25\u001b[0m epochs.                                                                                   \n"
     ]
    },
    {
     "name": "stderr",
     "output_type": "stream",
     "text": [
      "GPU available: True (cuda), used: True\n",
      "TPU available: False, using: 0 TPU cores\n",
      "HPU available: False, using: 0 HPUs\n",
      "LOCAL_RANK: 0 - CUDA_VISIBLE_DEVICES: [0]\n",
      "/root/miniconda3/envs/scvi-env/lib/python3.9/site-packages/lightning/pytorch/trainer/connectors/data_connector.py:425: The 'train_dataloader' does not have many workers which may be a bottleneck. Consider increasing the value of the `num_workers` argument` to `num_workers=2` in the `DataLoader` to improve performance.\n"
     ]
    },
    {
     "name": "stdout",
     "output_type": "stream",
     "text": [
      "Epoch 25/25: 100%|██████████| 25/25 [00:55<00:00,  2.23s/it, v_num=1, train_loss_step=2.93e+3, train_loss_epoch=2.96e+3]"
     ]
    },
    {
     "name": "stderr",
     "output_type": "stream",
     "text": [
      "`Trainer.fit` stopped: `max_epochs=25` reached.\n"
     ]
    },
    {
     "name": "stdout",
     "output_type": "stream",
     "text": [
      "Epoch 25/25: 100%|██████████| 25/25 [00:55<00:00,  2.23s/it, v_num=1, train_loss_step=2.93e+3, train_loss_epoch=2.96e+3]\n"
     ]
    }
   ],
   "source": [
    "# 注册给 scvi 使用\n",
    "scvi.model.SCVI.setup_anndata(adata_all, labels_key=\"cell_type\", batch_key=\"dataset\")\n",
    "\n",
    "# Pre-train SCVI\n",
    "start_scvi = time.time()\n",
    "model = scvi.model.SCVI(adata_all, n_latent=30)\n",
    "model.train(max_epochs=100)\n",
    "scvi_time = time.time() - start_scvi\n",
    "\n",
    "# 转换为 SCANVI 模型\n",
    "start_scanvi = time.time()\n",
    "scanvi_model = scvi.model.SCANVI.from_scvi_model(model, unlabeled_category=\"Unknown\")\n",
    "scanvi_model.train(max_epochs=25)\n",
    "scanvi_time = time.time() - start_scanvi"
   ]
  },
  {
   "cell_type": "code",
   "execution_count": 36,
   "metadata": {},
   "outputs": [],
   "source": [
    "start_predict = time.time()\n",
    "pred_labels_all = scanvi_model.predict(adata_all)\n",
    "predict_time = time.time() - start_predict\n",
    "\n",
    "true_labels = adata_query.obs[\"true_label\"]"
   ]
  },
  {
   "cell_type": "code",
   "execution_count": 38,
   "metadata": {},
   "outputs": [],
   "source": [
    "query_idx = adata_all.obs[\"dataset\"] == \"1\"\n",
    "pred_labels = pred_labels_all[query_idx]"
   ]
  },
  {
   "cell_type": "code",
   "execution_count": 44,
   "metadata": {},
   "outputs": [],
   "source": [
    "pd.DataFrame(true_labels).to_csv(\"scANVI_True_Labels_cross.csv\", index=False)\n",
    "pd.DataFrame(pred_labels).to_csv(\"scANVI_Pred_Labels_cross.csv\", index=False)\n",
    "pd.DataFrame({\"Training_Time\": [scvi_time + scanvi_time]}).to_csv(\"scANVI_Training_Times_cross.csv\", index=False)\n",
    "pd.DataFrame({\"Testing_Time\": [predict_time]}).to_csv(\"scANVI_Testing_Times_cross.csv\", index=False)"
   ]
  },
  {
   "cell_type": "code",
   "execution_count": null,
   "metadata": {},
   "outputs": [
    {
     "name": "stdout",
     "output_type": "stream",
     "text": [
      "\n",
      "=== scANVI 1/5训练结果 ===\n",
      "Accuracy: 0.9387\n",
      "F1 Score: 0.9382\n",
      "              precision    recall  f1-score   support\n",
      "\n",
      "      B cell       0.99      1.00      0.99       250\n",
      "  CD4 T cell       0.96      0.96      0.96      1238\n",
      "  CD8 T cell       0.85      0.91      0.88       676\n",
      "     NK cell       0.98      0.77      0.86       270\n",
      " Plasma cell       1.00      0.50      0.67         6\n",
      "         cDC       0.94      0.85      0.89        20\n",
      "       cMono       0.99      0.98      0.99       409\n",
      "      ncMono       0.94      0.99      0.96       119\n",
      "         pDC       1.00      0.83      0.91        12\n",
      "\n",
      "    accuracy                           0.94      3000\n",
      "   macro avg       0.96      0.87      0.90      3000\n",
      "weighted avg       0.94      0.94      0.94      3000\n",
      "\n"
     ]
    }
   ],
   "source": [
    "acc = accuracy_score(true_labels, pred_labels)\n",
    "f1 = f1_score(true_labels, pred_labels, average=\"weighted\")\n",
    "\n",
    "print(f\"Accuracy: {acc:.4f}\")\n",
    "print(f\"F1 Score: {f1:.4f}\")\n",
    "print(classification_report(true_labels, pred_labels))"
   ]
  }
 ],
 "metadata": {
  "kernelspec": {
   "display_name": "scvi-env",
   "language": "python",
   "name": "python3"
  },
  "language_info": {
   "codemirror_mode": {
    "name": "ipython",
    "version": 3
   },
   "file_extension": ".py",
   "mimetype": "text/x-python",
   "name": "python",
   "nbconvert_exporter": "python",
   "pygments_lexer": "ipython3",
   "version": "3.9.21"
  }
 },
 "nbformat": 4,
 "nbformat_minor": 2
}
