{
 "cells": [
  {
   "cell_type": "code",
   "execution_count": 2,
   "metadata": {},
   "outputs": [],
   "source": [
    "import scanpy as sc\n",
    "import pandas as pd\n",
    "import scipy.io\n",
    "import os"
   ]
  },
  {
   "cell_type": "code",
   "execution_count": null,
   "metadata": {},
   "outputs": [],
   "source": [
    "data_dir = \"/mnt/bench/filtered_matrices_mex/hg19\"\n",
    "\n",
    "# Step 1: load 10x matrix\n",
    "adata = sc.read_10x_mtx(data_dir, var_names='gene_symbols', cache=True)"
   ]
  },
  {
   "cell_type": "code",
   "execution_count": null,
   "metadata": {},
   "outputs": [],
   "source": [
    "# Step 2: load ground truth label\n",
    "labels = pd.read_csv(os.path.join(data_dir, '68k_pbmc_barcodes_annotation.tsv'), sep='\\t',usecols=[2, 3])\n",
    "labels.columns = ['barcode', 'celltype']\n",
    "labels = labels.set_index('barcode')"
   ]
  },
  {
   "cell_type": "code",
   "execution_count": null,
   "metadata": {},
   "outputs": [
    {
     "name": "stderr",
     "output_type": "stream",
     "text": [
      "/tmp/ipykernel_15159/824238848.py:5: ImplicitModificationWarning: Trying to modify attribute `.obs` of view, initializing view as actual.\n",
      "  adata.obs['celltype'] = adata.obs['celltype'].astype('category')\n"
     ]
    }
   ],
   "source": [
    "# Step 3: assign label to AnnData\n",
    "adata.obs['barcode'] = adata.obs_names\n",
    "adata.obs = adata.obs.join(labels, on='barcode')\n",
    "adata = adata[~adata.obs['celltype'].isna(), :]\n",
    "adata.obs['celltype'] = adata.obs['celltype'].astype('category')"
   ]
  },
  {
   "cell_type": "code",
   "execution_count": null,
   "metadata": {},
   "outputs": [
    {
     "name": "stderr",
     "output_type": "stream",
     "text": [
      "/root/miniconda3/envs/scvi-env/lib/python3.9/site-packages/scanpy/preprocessing/_pca.py:317: ImplicitModificationWarning: Setting element `.obsm['X_pca']` of view, initializing view as actual.\n",
      "  adata.obsm[key_obsm] = X_pca\n"
     ]
    }
   ],
   "source": [
    "# Step 4: preprocessing\n",
    "sc.pp.filter_cells(adata, min_genes=200)\n",
    "sc.pp.filter_genes(adata, min_cells=3)\n",
    "sc.pp.normalize_total(adata, target_sum=1e4)\n",
    "sc.pp.log1p(adata)\n",
    "sc.pp.highly_variable_genes(adata, n_top_genes=2000)\n",
    "adata = adata[:, adata.var.highly_variable]\n",
    "sc.tl.pca(adata, svd_solver='arpack')\n",
    "\n",
    "# save to h5ad\n",
    "adata.write(\"zheng68k_preprocessed.h5ad\")"
   ]
  }
 ],
 "metadata": {
  "kernelspec": {
   "display_name": "scvi-env",
   "language": "python",
   "name": "python3"
  },
  "language_info": {
   "codemirror_mode": {
    "name": "ipython",
    "version": 3
   },
   "file_extension": ".py",
   "mimetype": "text/x-python",
   "name": "python",
   "nbconvert_exporter": "python",
   "pygments_lexer": "ipython3",
   "version": "3.9.21"
  }
 },
 "nbformat": 4,
 "nbformat_minor": 2
}
